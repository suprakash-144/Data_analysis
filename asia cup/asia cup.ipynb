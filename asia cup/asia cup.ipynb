{
 "cells": [
  {
   "cell_type": "code",
   "execution_count": 68,
   "id": "c6cf9fe4",
   "metadata": {
    "scrolled": true
   },
   "outputs": [
    {
     "data": {
      "text/html": [
       "<div>\n",
       "<style scoped>\n",
       "    .dataframe tbody tr th:only-of-type {\n",
       "        vertical-align: middle;\n",
       "    }\n",
       "\n",
       "    .dataframe tbody tr th {\n",
       "        vertical-align: top;\n",
       "    }\n",
       "\n",
       "    .dataframe thead th {\n",
       "        text-align: right;\n",
       "    }\n",
       "</style>\n",
       "<table border=\"1\" class=\"dataframe\">\n",
       "  <thead>\n",
       "    <tr style=\"text-align: right;\">\n",
       "      <th></th>\n",
       "      <th>Team</th>\n",
       "      <th>Opponent</th>\n",
       "      <th>Format</th>\n",
       "      <th>Ground</th>\n",
       "      <th>Year</th>\n",
       "      <th>Toss</th>\n",
       "      <th>Selection</th>\n",
       "      <th>Run Scored</th>\n",
       "      <th>Wicket Lost</th>\n",
       "      <th>Fours</th>\n",
       "      <th>Sixes</th>\n",
       "      <th>Extras</th>\n",
       "      <th>Run Rate</th>\n",
       "      <th>Avg Bat Strike Rate</th>\n",
       "      <th>Highest Score</th>\n",
       "      <th>Wicket Taken</th>\n",
       "      <th>Given Extras</th>\n",
       "      <th>Highest Individual wicket</th>\n",
       "      <th>Player Of The Match</th>\n",
       "      <th>Result</th>\n",
       "    </tr>\n",
       "  </thead>\n",
       "  <tbody>\n",
       "    <tr>\n",
       "      <th>0</th>\n",
       "      <td>Pakistan</td>\n",
       "      <td>Sri Lanka</td>\n",
       "      <td>ODI</td>\n",
       "      <td>Sharjah</td>\n",
       "      <td>1984</td>\n",
       "      <td>Lose</td>\n",
       "      <td>Batting</td>\n",
       "      <td>187.0</td>\n",
       "      <td>9.0</td>\n",
       "      <td>9.0</td>\n",
       "      <td>3.0</td>\n",
       "      <td>21.0</td>\n",
       "      <td>4.06</td>\n",
       "      <td>52.04</td>\n",
       "      <td>47.0</td>\n",
       "      <td>5.0</td>\n",
       "      <td>26.0</td>\n",
       "      <td>2.0</td>\n",
       "      <td>Roy Dias</td>\n",
       "      <td>Lose</td>\n",
       "    </tr>\n",
       "    <tr>\n",
       "      <th>1</th>\n",
       "      <td>Sri Lanka</td>\n",
       "      <td>Pakistan</td>\n",
       "      <td>ODI</td>\n",
       "      <td>Sharjah</td>\n",
       "      <td>1984</td>\n",
       "      <td>Win</td>\n",
       "      <td>Bowling</td>\n",
       "      <td>190.0</td>\n",
       "      <td>5.0</td>\n",
       "      <td>11.0</td>\n",
       "      <td>1.0</td>\n",
       "      <td>26.0</td>\n",
       "      <td>4.36</td>\n",
       "      <td>68.51</td>\n",
       "      <td>57.0</td>\n",
       "      <td>9.0</td>\n",
       "      <td>21.0</td>\n",
       "      <td>3.0</td>\n",
       "      <td>Roy Dias</td>\n",
       "      <td>Win</td>\n",
       "    </tr>\n",
       "    <tr>\n",
       "      <th>2</th>\n",
       "      <td>India</td>\n",
       "      <td>Sri Lanka</td>\n",
       "      <td>ODI</td>\n",
       "      <td>Sharjah</td>\n",
       "      <td>1984</td>\n",
       "      <td>Win</td>\n",
       "      <td>Bowling</td>\n",
       "      <td>97.0</td>\n",
       "      <td>0.0</td>\n",
       "      <td>9.0</td>\n",
       "      <td>0.0</td>\n",
       "      <td>14.0</td>\n",
       "      <td>4.47</td>\n",
       "      <td>60.48</td>\n",
       "      <td>51.0</td>\n",
       "      <td>10.0</td>\n",
       "      <td>8.0</td>\n",
       "      <td>3.0</td>\n",
       "      <td>Surinder Khanna</td>\n",
       "      <td>Win</td>\n",
       "    </tr>\n",
       "    <tr>\n",
       "      <th>3</th>\n",
       "      <td>Sri Lanka</td>\n",
       "      <td>India</td>\n",
       "      <td>ODI</td>\n",
       "      <td>Sharjah</td>\n",
       "      <td>1984</td>\n",
       "      <td>Lose</td>\n",
       "      <td>Batting</td>\n",
       "      <td>96.0</td>\n",
       "      <td>10.0</td>\n",
       "      <td>7.0</td>\n",
       "      <td>0.0</td>\n",
       "      <td>8.0</td>\n",
       "      <td>2.34</td>\n",
       "      <td>25.74</td>\n",
       "      <td>38.0</td>\n",
       "      <td>0.0</td>\n",
       "      <td>14.0</td>\n",
       "      <td>0.0</td>\n",
       "      <td>Surinder Khanna</td>\n",
       "      <td>Lose</td>\n",
       "    </tr>\n",
       "    <tr>\n",
       "      <th>4</th>\n",
       "      <td>India</td>\n",
       "      <td>Pakistan</td>\n",
       "      <td>ODI</td>\n",
       "      <td>Sharjah</td>\n",
       "      <td>1984</td>\n",
       "      <td>Win</td>\n",
       "      <td>Batting</td>\n",
       "      <td>188.0</td>\n",
       "      <td>4.0</td>\n",
       "      <td>13.0</td>\n",
       "      <td>3.0</td>\n",
       "      <td>17.0</td>\n",
       "      <td>4.08</td>\n",
       "      <td>60.21</td>\n",
       "      <td>56.0</td>\n",
       "      <td>10.0</td>\n",
       "      <td>5.0</td>\n",
       "      <td>3.0</td>\n",
       "      <td>Surinder Khanna</td>\n",
       "      <td>Win</td>\n",
       "    </tr>\n",
       "    <tr>\n",
       "      <th>...</th>\n",
       "      <td>...</td>\n",
       "      <td>...</td>\n",
       "      <td>...</td>\n",
       "      <td>...</td>\n",
       "      <td>...</td>\n",
       "      <td>...</td>\n",
       "      <td>...</td>\n",
       "      <td>...</td>\n",
       "      <td>...</td>\n",
       "      <td>...</td>\n",
       "      <td>...</td>\n",
       "      <td>...</td>\n",
       "      <td>...</td>\n",
       "      <td>...</td>\n",
       "      <td>...</td>\n",
       "      <td>...</td>\n",
       "      <td>...</td>\n",
       "      <td>...</td>\n",
       "      <td>...</td>\n",
       "      <td>...</td>\n",
       "    </tr>\n",
       "    <tr>\n",
       "      <th>229</th>\n",
       "      <td>Sri Lanka</td>\n",
       "      <td>Afghanistan</td>\n",
       "      <td>T20I</td>\n",
       "      <td>Dubai(DSC)</td>\n",
       "      <td>2022</td>\n",
       "      <td>Lose</td>\n",
       "      <td>Batting</td>\n",
       "      <td>105.0</td>\n",
       "      <td>10.0</td>\n",
       "      <td>11.0</td>\n",
       "      <td>2.0</td>\n",
       "      <td>6.0</td>\n",
       "      <td>5.33</td>\n",
       "      <td>47.46</td>\n",
       "      <td>38.0</td>\n",
       "      <td>2.0</td>\n",
       "      <td>12.0</td>\n",
       "      <td>1.0</td>\n",
       "      <td>Fazalhaq Farooqi</td>\n",
       "      <td>Lose</td>\n",
       "    </tr>\n",
       "    <tr>\n",
       "      <th>230</th>\n",
       "      <td>India</td>\n",
       "      <td>Pakistan</td>\n",
       "      <td>T20I</td>\n",
       "      <td>Dubai(DSC)</td>\n",
       "      <td>2022</td>\n",
       "      <td>Win</td>\n",
       "      <td>Bowling</td>\n",
       "      <td>148.0</td>\n",
       "      <td>5.0</td>\n",
       "      <td>10.0</td>\n",
       "      <td>5.0</td>\n",
       "      <td>14.0</td>\n",
       "      <td>7.52</td>\n",
       "      <td>97.77</td>\n",
       "      <td>35.0</td>\n",
       "      <td>10.0</td>\n",
       "      <td>5.0</td>\n",
       "      <td>4.0</td>\n",
       "      <td>Hardik Pandya</td>\n",
       "      <td>Win</td>\n",
       "    </tr>\n",
       "    <tr>\n",
       "      <th>231</th>\n",
       "      <td>Pakistan</td>\n",
       "      <td>India</td>\n",
       "      <td>T20I</td>\n",
       "      <td>Dubai(DSC)</td>\n",
       "      <td>2022</td>\n",
       "      <td>Lose</td>\n",
       "      <td>Batting</td>\n",
       "      <td>147.0</td>\n",
       "      <td>10.0</td>\n",
       "      <td>13.0</td>\n",
       "      <td>4.0</td>\n",
       "      <td>5.0</td>\n",
       "      <td>7.41</td>\n",
       "      <td>114.67</td>\n",
       "      <td>43.0</td>\n",
       "      <td>5.0</td>\n",
       "      <td>14.0</td>\n",
       "      <td>3.0</td>\n",
       "      <td>Hardik Pandya</td>\n",
       "      <td>Lose</td>\n",
       "    </tr>\n",
       "    <tr>\n",
       "      <th>232</th>\n",
       "      <td>Afghanistan</td>\n",
       "      <td>Bangladesh</td>\n",
       "      <td>T20I</td>\n",
       "      <td>Sharjah</td>\n",
       "      <td>2022</td>\n",
       "      <td>Lose</td>\n",
       "      <td>Bowling</td>\n",
       "      <td>131.0</td>\n",
       "      <td>3.0</td>\n",
       "      <td>10.0</td>\n",
       "      <td>6.0</td>\n",
       "      <td>4.0</td>\n",
       "      <td>7.08</td>\n",
       "      <td>118.76</td>\n",
       "      <td>43.0</td>\n",
       "      <td>7.0</td>\n",
       "      <td>5.0</td>\n",
       "      <td>3.0</td>\n",
       "      <td>Mujeeb Ur Rahman</td>\n",
       "      <td>Win</td>\n",
       "    </tr>\n",
       "    <tr>\n",
       "      <th>233</th>\n",
       "      <td>Bangladesh</td>\n",
       "      <td>Afghanistan</td>\n",
       "      <td>T20I</td>\n",
       "      <td>Sharjah</td>\n",
       "      <td>2022</td>\n",
       "      <td>Win</td>\n",
       "      <td>Batting</td>\n",
       "      <td>127.0</td>\n",
       "      <td>7.0</td>\n",
       "      <td>10.0</td>\n",
       "      <td>1.0</td>\n",
       "      <td>5.0</td>\n",
       "      <td>6.35</td>\n",
       "      <td>87.75</td>\n",
       "      <td>48.0</td>\n",
       "      <td>3.0</td>\n",
       "      <td>4.0</td>\n",
       "      <td>1.0</td>\n",
       "      <td>Mujeeb Ur Rahman</td>\n",
       "      <td>Lose</td>\n",
       "    </tr>\n",
       "  </tbody>\n",
       "</table>\n",
       "<p>234 rows × 20 columns</p>\n",
       "</div>"
      ],
      "text/plain": [
       "            Team     Opponent Format      Ground  Year  Toss Selection  \\\n",
       "0       Pakistan    Sri Lanka    ODI     Sharjah  1984  Lose   Batting   \n",
       "1      Sri Lanka     Pakistan    ODI     Sharjah  1984   Win   Bowling   \n",
       "2          India    Sri Lanka    ODI     Sharjah  1984   Win   Bowling   \n",
       "3      Sri Lanka        India    ODI     Sharjah  1984  Lose   Batting   \n",
       "4          India     Pakistan    ODI     Sharjah  1984   Win   Batting   \n",
       "..           ...          ...    ...         ...   ...   ...       ...   \n",
       "229    Sri Lanka  Afghanistan   T20I  Dubai(DSC)  2022  Lose   Batting   \n",
       "230        India     Pakistan   T20I  Dubai(DSC)  2022   Win   Bowling   \n",
       "231     Pakistan        India   T20I  Dubai(DSC)  2022  Lose   Batting   \n",
       "232  Afghanistan   Bangladesh   T20I     Sharjah  2022  Lose   Bowling   \n",
       "233   Bangladesh  Afghanistan   T20I     Sharjah  2022   Win   Batting   \n",
       "\n",
       "     Run Scored  Wicket Lost  Fours  Sixes  Extras  Run Rate  \\\n",
       "0         187.0          9.0    9.0    3.0    21.0      4.06   \n",
       "1         190.0          5.0   11.0    1.0    26.0      4.36   \n",
       "2          97.0          0.0    9.0    0.0    14.0      4.47   \n",
       "3          96.0         10.0    7.0    0.0     8.0      2.34   \n",
       "4         188.0          4.0   13.0    3.0    17.0      4.08   \n",
       "..          ...          ...    ...    ...     ...       ...   \n",
       "229       105.0         10.0   11.0    2.0     6.0      5.33   \n",
       "230       148.0          5.0   10.0    5.0    14.0      7.52   \n",
       "231       147.0         10.0   13.0    4.0     5.0      7.41   \n",
       "232       131.0          3.0   10.0    6.0     4.0      7.08   \n",
       "233       127.0          7.0   10.0    1.0     5.0      6.35   \n",
       "\n",
       "     Avg Bat Strike Rate  Highest Score  Wicket Taken  Given Extras  \\\n",
       "0                  52.04           47.0           5.0          26.0   \n",
       "1                  68.51           57.0           9.0          21.0   \n",
       "2                  60.48           51.0          10.0           8.0   \n",
       "3                  25.74           38.0           0.0          14.0   \n",
       "4                  60.21           56.0          10.0           5.0   \n",
       "..                   ...            ...           ...           ...   \n",
       "229                47.46           38.0           2.0          12.0   \n",
       "230                97.77           35.0          10.0           5.0   \n",
       "231               114.67           43.0           5.0          14.0   \n",
       "232               118.76           43.0           7.0           5.0   \n",
       "233                87.75           48.0           3.0           4.0   \n",
       "\n",
       "     Highest Individual wicket Player Of The Match Result  \n",
       "0                          2.0            Roy Dias   Lose  \n",
       "1                          3.0            Roy Dias    Win  \n",
       "2                          3.0     Surinder Khanna    Win  \n",
       "3                          0.0     Surinder Khanna   Lose  \n",
       "4                          3.0     Surinder Khanna    Win  \n",
       "..                         ...                 ...    ...  \n",
       "229                        1.0    Fazalhaq Farooqi   Lose  \n",
       "230                        4.0       Hardik Pandya    Win  \n",
       "231                        3.0       Hardik Pandya   Lose  \n",
       "232                        3.0    Mujeeb Ur Rahman    Win  \n",
       "233                        1.0    Mujeeb Ur Rahman   Lose  \n",
       "\n",
       "[234 rows x 20 columns]"
      ]
     },
     "execution_count": 68,
     "metadata": {},
     "output_type": "execute_result"
    }
   ],
   "source": [
    "import numpy as np\n",
    "import pandas as pd\n",
    "import matplotlib.pyplot as plt\n",
    "import seaborn as sns\n",
    "\n",
    "data = pd.read_csv(\"asiacup.csv\")\n",
    "data.fillna(0)\n",
    "data\n"
   ]
  },
  {
   "cell_type": "code",
   "execution_count": 69,
   "id": "eae15fbc",
   "metadata": {},
   "outputs": [
    {
     "data": {
      "text/plain": [
       "Index(['Team', 'Opponent', 'Format', 'Ground', 'Year', 'Toss', 'Selection',\n",
       "       'Run Scored', 'Wicket Lost', 'Fours', 'Sixes', 'Extras', 'Run Rate',\n",
       "       'Avg Bat Strike Rate', 'Highest Score', 'Wicket Taken', 'Given Extras',\n",
       "       'Highest Individual wicket', 'Player Of The Match', 'Result'],\n",
       "      dtype='object')"
      ]
     },
     "execution_count": 69,
     "metadata": {},
     "output_type": "execute_result"
    }
   ],
   "source": [
    "data.columns"
   ]
  },
  {
   "cell_type": "code",
   "execution_count": 67,
   "id": "4e179833",
   "metadata": {},
   "outputs": [
    {
     "data": {
      "text/plain": [
       "<AxesSubplot:xlabel='count', ylabel='Team'>"
      ]
     },
     "execution_count": 67,
     "metadata": {},
     "output_type": "execute_result"
    },
    {
     "data": {
      "image/png": "[encoded data removed]",
      "text/plain": [
       "<Figure size 640x480 with 1 Axes>"
      ]
     },
     "metadata": {},
     "output_type": "display_data"
    }
   ],
   "source": [
    "sns.countplot(data=data,y=data.Team , hue=data.Result)"
   ]
  },
  {
   "cell_type": "markdown",
   "id": "b5f82239",
   "metadata": {},
   "source": [
    "### Depending upon Toss"
   ]
  },
  {
   "cell_type": "code",
   "execution_count": 58,
   "id": "5b850065",
   "metadata": {},
   "outputs": [
    {
     "name": "stdout",
     "output_type": "stream",
     "text": [
      "Toss won but match lost : 48\n",
      "Toss won match lost : 65\n"
     ]
    },
    {
     "data": {
      "text/plain": [
       "<AxesSubplot:xlabel='count', ylabel='Team'>"
      ]
     },
     "execution_count": 58,
     "metadata": {},
     "output_type": "execute_result"
    },
    {
     "data": {
      "image/png": "[encoded data removed]",
      "text/plain": [
       "<Figure size 640x480 with 1 Axes>"
      ]
     },
     "metadata": {},
     "output_type": "display_data"
    }
   ],
   "source": [
    "s= data[data[\"Toss\"]==\"Win\"]\n",
    "print(\"Toss won but match lost :\",s.Team[s.Result==\"Lose\"].count())\n",
    "print(\"Toss won match lost :\",s.Team[s.Result==\"Win\"].count())\n",
    "# sns.countplot(x=s.Result)\n",
    "sns.countplot(data=s,y=s.Team,hue=s.Result )"
   ]
  },
  {
   "cell_type": "markdown",
   "id": "fc70cf03",
   "metadata": {},
   "source": [
    "### Depending upon selection of batting"
   ]
  },
  {
   "cell_type": "code",
   "execution_count": 55,
   "id": "ca07c248",
   "metadata": {},
   "outputs": [
    {
     "name": "stdout",
     "output_type": "stream",
     "text": [
      "Toss won chose to bat first : 66\n",
      "Toss won chose to bat and won the match : 35\n",
      "Toss won chose to bat and lost the match: 30\n",
      "Toss won chose to bat and ended in a draw: 1\n"
     ]
    },
    {
     "data": {
      "text/plain": [
       "<AxesSubplot:xlabel='count', ylabel='Team'>"
      ]
     },
     "execution_count": 55,
     "metadata": {},
     "output_type": "execute_result"
    },
    {
     "data": {
      "image/png": "[encoded data removed]",
      "text/plain": [
       "<Figure size 640x480 with 1 Axes>"
      ]
     },
     "metadata": {},
     "output_type": "display_data"
    }
   ],
   "source": [
    "d = data[data.Toss==\"Win\"]\n",
    "print(\"Toss won chose to bat first :\",d.Team[d.Selection==\"Batting\"].count())\n",
    "\n",
    "d_bat =d[d.Selection==\"Batting\"]\n",
    "d_bat.Team[d_bat.Result==\"Win\"].count()\n",
    "print(\"Toss won chose to bat and won the match :\",d_bat.Team[d_bat.Result==\"Win\"].count())\n",
    "print(\"Toss won chose to bat and lost the match:\",d_bat.Team[d_bat.Result==\"Lose\"].count())\n",
    "print(\"Toss won chose to bat and ended in a draw:\",d_bat.Team[d_bat.Result==\"No Result\"].count())\n",
    "sns.countplot(data=d_bat,y=d_bat.Team,hue=d_bat.Result )"
   ]
  },
  {
   "cell_type": "markdown",
   "id": "1588f02c",
   "metadata": {},
   "source": [
    "### Depending upon selection of bowling"
   ]
  },
  {
   "cell_type": "code",
   "execution_count": 54,
   "id": "b92c147e",
   "metadata": {},
   "outputs": [
    {
     "name": "stdout",
     "output_type": "stream",
     "text": [
      "Toss won chose to bowl first : 50\n",
      "Toss won chose to bat and won the match : 30\n",
      "Toss won chose to bat and lost the match: 18\n",
      "Toss won chose to bat and ended in a draw: 1\n"
     ]
    },
    {
     "data": {
      "text/plain": [
       "<AxesSubplot:xlabel='count', ylabel='Team'>"
      ]
     },
     "execution_count": 54,
     "metadata": {},
     "output_type": "execute_result"
    },
    {
     "data": {
      "image/png": "[encoded data removed]",
      "text/plain": [
       "<Figure size 640x480 with 1 Axes>"
      ]
     },
     "metadata": {},
     "output_type": "display_data"
    }
   ],
   "source": [
    "print(\"Toss won chose to bowl first :\",d.Team[d.Selection==\"Bowling\"].count())\n",
    "d_bat =d[d.Selection==\"Bowling\"]\n",
    "d_bat.Team[d_bat.Result==\"Win\"].count()\n",
    "print(\"Toss won chose to bat and won the match :\",d_bat.Team[d_bat.Result==\"Win\"].count())\n",
    "print(\"Toss won chose to bat and lost the match:\",d_bat.Team[d_bat.Result==\"Lose\"].count())\n",
    "print(\"Toss won chose to bat and ended in a draw:\",d_bat.Team[d_bat.Result==\"No Result\"].count())\n",
    "sns.countplot(data=d_bat,y=\"Team\",hue=\"Result\" )"
   ]
  },
  {
   "cell_type": "markdown",
   "id": "064a32cc",
   "metadata": {},
   "source": [
    "### Depending upon runs scored"
   ]
  },
  {
   "cell_type": "code",
   "execution_count": null,
   "id": "e4d54da8",
   "metadata": {},
   "outputs": [],
   "source": []
  }
 ],
 "metadata": {
  "kernelspec": {
   "display_name": "Python 3 (ipykernel)",
   "language": "python",
   "name": "python3"
  },
  "language_info": {
   "codemirror_mode": {
    "name": "ipython",
    "version": 3
   },
   "file_extension": ".py",
   "mimetype": "text/x-python",
   "name": "python",
   "nbconvert_exporter": "python",
   "pygments_lexer": "ipython3",
   "version": "3.10.1"
  }
 },
 "nbformat": 4,
 "nbformat_minor": 5
}
